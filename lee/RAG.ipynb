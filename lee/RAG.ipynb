{
 "cells": [
  {
   "cell_type": "code",
   "execution_count": 9,
   "metadata": {},
   "outputs": [],
   "source": [
    "import os\n",
    "os.environ[\"TIKTOKEN_CACHE_DIR\"] = './etc'\n",
    "\n",
    "from langchain.llms import OpenAI\n",
    "from langchain.chat_models import ChatOpenAI\n",
    "\n",
    "from langchain.prompts import ChatPromptTemplate\n",
    "\n",
    "from langchain.callbacks import StreamingStdOutCallbackHandler\n",
    "\n",
    "from langchain.text_splitter import CharacterTextSplitter\n",
    "from langchain.vectorstores import FAISS\n",
    "from langchain.storage import LocalFileStore\n",
    "from langchain.document_loaders import UnstructuredFileLoader\n",
    "from langchain.embeddings import OpenAIEmbeddings, CacheBackedEmbeddings\n",
    "\n",
    "llm = ChatOpenAI(\n",
    "    temperature=0.1,\n",
    ")\n"
   ]
  },
  {
   "cell_type": "code",
   "execution_count": 10,
   "metadata": {},
   "outputs": [],
   "source": [
    "loader = UnstructuredFileLoader(\"./files/document.txt\")\n",
    "\n",
    "splitter = CharacterTextSplitter.from_tiktoken_encoder(\n",
    "    separator=\"\\n\",\n",
    "    chunk_size=600,\n",
    "    chunk_overlap=100,\n",
    ")\n",
    "\n",
    "cache_dir = LocalFileStore(\"./cache/\")\n",
    "\n",
    "embedding = OpenAIEmbeddings()\n",
    "\n",
    "docs = loader.load_and_split(text_splitter=splitter)\n",
    "\n",
    "cached_embedding = CacheBackedEmbeddings.from_bytes_store(\n",
    "    embedding, cache_dir\n",
    ")\n",
    "\n",
    "vectorstore = FAISS.from_documents(docs, cached_embedding)\n"
   ]
  },
  {
   "cell_type": "code",
   "execution_count": 11,
   "metadata": {},
   "outputs": [
    {
     "data": {
      "text/plain": [
       "[Document(page_content='Part One\\n1 It was a bright cold day in April, and the clocks were striking thirteen. Winston Smith, his chin nuzzled into his breast in an effort to escape the vile wind, slipped quickly through the glass doors of Victory Mansions, though not quickly enough to prevent a swirl of gritty dust from entering along with him.\\nThe hallway smelt of boiled cabbage and old rag mats. At one end of it a coloured poster, too large for indoor display, had been tacked to the wall. It depicted simply an enormous face, more than a metre wide: the face of a man of about forty-five, with a heavy black moustache and ruggedly handsome features. Winston made for the stairs. It was no use trying the lift. Even at the best of times it was seldom working, and at present the electric current was cut off during daylight hours. It was part of the economy drive in preparation for Hate Week. The flat was seven flights up, and Winston, who was thirty-nine and had a varicose ulcer above his right ankle, went slowly, resting several times on the way. On each landing, opposite the lift-shaft, the poster with the enormous face gazed from the wall. It was one of those pictures which are so contrived that the eyes follow you about when you move. BIG BROTHER IS WATCHING YOU, the caption beneath it ran.\\nInside the flat a fruity voice was reading out a list of figures which had something to do with the production of pig-iron. The voice came from an oblong metal plaque like a dulled mirror which formed part of the surface of the right-hand wall. Winston turned a switch and the voice sank somewhat, though the words were still distinguishable. The instrument (the telescreen, it was called) could be dimmed, but there was no way of shutting it off completely. He moved over to the window: a smallish, frail figure, the meagreness of his body merely emphasized by the blue overalls which were the uniform of the party. His hair was very fair, his face naturally sanguine, his skin roughened by coarse soap and blunt razor blades and the cold of the winter that had just ended.', metadata={'source': './files/document.txt'}),\n",
       " Document(page_content=\"The Ministry of Love was the really frightening one. There were no windows in it at all. Winston had never been inside the Ministry of Love, nor within half a kilometre of it. It was a place impossible to enter except on official business, and then only by penetrating through a maze of barbed-wire entanglements, steel doors, and hidden machine-gun nests. Even the streets leading up to its outer barriers were roamed by gorilla-faced guards in black uniforms, armed with jointed truncheons.\\nWinston turned round abruptly. He had set his features into the expression of quiet optimism which it was advisable to wear when facing the telescreen. He crossed the room into the tiny kitchen. By leaving the Ministry at this time of day he had sacrificed his lunch in the canteen, and he was aware that there was no food in the kitchen except a hunk of dark-coloured bread which had got to be saved for tomorrow's breakfast. He took down from the shelf a bottle of colourless liquid with a plain white label marked VICTORY GIN. It gave off a sickly, oily smell, as of Chinese ricespirit. Winston poured out nearly a teacupful, nerved himself for a shock, and gulped it down like a dose of medicine.\\nInstantly his face turned scarlet and the water ran out of his eyes. The stuff was like nitric acid, and moreover, in swallowing it one had the sensation of being hit on the back of the head with a rubber club. The next moment, however, the burning in his belly died down and the world began to look more cheerful. He took a cigarette from a crumpled packet marked VICTORY CIGARETTES and incautiously held it upright, whereupon the tobacco fell out on to the floor. With the next he was more successful. He went back to the living-room and sat down at a small table that stood to the left of the telescreen. From the table drawer he took out a penholder, a bottle of ink, and a thick, quarto-sized blank book with a red back and a marbled cover.\", metadata={'source': './files/document.txt'}),\n",
       " Document(page_content=\"Outside, even through the shut window-pane, the world looked cold. Down in the street little eddies of wind were whirling dust and torn paper into spirals, and though the sun was shining and the sky a harsh blue, there seemed to be no colour in anything, except the posters that were plastered everywhere. The blackmoustachio'd face gazed down from every commanding corner. There was one on the house-front immediately opposite. BIG BROTHER IS WATCHING YOU, the caption said, while the dark eyes looked deep into Winston's own. Down at streetlevel another poster, torn at one corner, flapped fitfully in the wind, alternately covering and uncovering the single word INGSOC. In the far distance a helicopter skimmed down between the roofs, hovered for an instant like a bluebottle, and darted away again with a curving flight. It was the police patrol, snooping into people's windows. The patrols did not matter, however. Only the Thought Police mattered.\\nBehind Winston's back the voice from the telescreen was still babbling away about pig-iron and the overfulfilment of the Ninth Three-Year Plan. The telescreen received and transmitted simultaneously. Any sound that Winston made, above the level of a very low whisper, would be picked up by it, moreover, so long as he remained within the field of vision which the metal plaque commanded, he could be seen as well as heard. There was of course no way of knowing whether you were being watched at any given moment. How often, or on what system, the Thought Police plugged in on any individual wire was guesswork. It was even conceivable that they watched everybody all the time. But at any rate they could plug in your wire whenever they wanted to. You had to live -- did live, from habit that became instinct -- in the assumption that every sound you made was overheard, and, except in darkness, every movement scrutinized.\", metadata={'source': './files/document.txt'}),\n",
       " Document(page_content=\"For some reason the telescreen in the living-room was in an unusual position. Instead of being placed, as was normal, in the end wall, where it could command the whole room, it was in the longer wall, opposite the window. To one side of it there was a shallow alcove in which Winston was now sitting, and which, when the flats were built, had probably been intended to hold bookshelves. By sitting in the alcove, and keeping well back, Winston was able to remain outside the range of the telescreen, so far as sight went. He could be heard, of course, but so long as he stayed in his present position he could not be seen. It was partly the unusual geography of the room that had suggested to him the thing that he was now about to do.\\nBut it had also been suggested by the book that he had just taken out of the drawer. It was a peculiarly beautiful book. Its smooth creamy paper, a little yellowed by age, was of a kind that had not been manufactured for at least forty years past. He could guess, however, that the book was much older than that. He had seen it lying in the window of a frowsy little junk-shop in a slummy quarter of the town (just what quarter he did not now remember) and had been stricken immediately by an overwhelming desire to possess it. Party members were supposed not to go into ordinary shops ('dealing on the free market', it was called), but the rule was not strictly kept, because there were various things, such as shoelaces and razor blades, which it was impossible to get hold of in any other way. He had given a quick glance up and down the street and then had slipped inside and bought the book for two dollars fifty. At the time he was not conscious of wanting it for any particular purpose. He had carried it guiltily home in his briefcase. Even with nothing written in it, it was a compromising possession.\", metadata={'source': './files/document.txt'})]"
      ]
     },
     "execution_count": 11,
     "metadata": {},
     "output_type": "execute_result"
    }
   ],
   "source": [
    "results = vectorstore.similarity_search(\"where does winston live\")\n",
    "\n",
    "results"
   ]
  },
  {
   "cell_type": "code",
   "execution_count": 16,
   "metadata": {},
   "outputs": [
    {
     "data": {
      "text/plain": [
       "\"In light of the new context provided, Victory Mansions can be further understood as a place of confinement and surveillance, where residents like Winston Smith must navigate the constant monitoring and control of the Party. The strategic positioning of the telescreen in Winston's living room, and his deliberate attempt to evade its gaze, highlights the pervasive nature of surveillance in every aspect of daily life within Victory Mansions.\\n\\nThe description of the alcove where Winston sits to avoid being seen by the telescreen underscores the lengths to which individuals must go to carve out moments of privacy and autonomy in a society where every action is scrutinized. The presence of the forbidden book, with its rarity and age, symbolizes Winston's rebellion against the Party's suppression of knowledge and history. The act of possessing such a book, even without any specific purpose in mind, is a subversive act within the confines of Victory Mansions.\\n\\nOverall, Victory Mansions emerges as a symbol of the oppressive and restrictive environment in which Winston and other residents live, where even the smallest acts of defiance or individuality are considered dangerous and punishable.\""
      ]
     },
     "execution_count": 16,
     "metadata": {},
     "output_type": "execute_result"
    }
   ],
   "source": [
    "from langchain.chains import RetrievalQA\n",
    "\n",
    "## chain의 생성자이며, llm을 인자로 받음\n",
    "\"\"\"\n",
    "    A retriever is an interface that returns documents given an unstructured query. \n",
    "    It is more general than a vector store. A retriever does not need to be able to store documents, only to return (or retrieve) them. \n",
    "    Retrievers can be created from vector stores, but are also broad enough to include Wikipedia search and Amazon Kendra.\n",
    "\n",
    "chain = RetrievalQA.from_chain_type(\n",
    "    llm=llm,\n",
    "    chain_type=\"refine\", ## str을 받으며 default값은 stuff임,\n",
    "    retriever=vectorstore.as_retriever(),      ## retriever는 class의 interface와 같다. (vectorstore를 포함한, document가 저장된 db나 cloud 환경을 일컫는다.)\n",
    ")\n",
    "\n",
    "chain.run(\"Where does Winston live?\")\n",
    "chain.run(\"Describe Victory Mansions\")\n",
    "\"\"\""
   ]
  },
  {
   "cell_type": "code",
   "execution_count": 17,
   "metadata": {},
   "outputs": [
    {
     "data": {
      "text/plain": [
       "AIMessage(content=\"Victory Mansions is a building where Winston Smith lives. It has glass doors that let in gritty dust, and the hallway smells of boiled cabbage and old rag mats. There is a large colored poster of a man's face on the wall, and the building has a faulty lift due to the electricity being cut off during daylight hours. Winston's flat is on the seventh floor, and the building is described as having a grimy landscape.\")"
      ]
     },
     "execution_count": 17,
     "metadata": {},
     "output_type": "execute_result"
    }
   ],
   "source": [
    "## 이제 LCEL로 체인을 만들 때, prompt 전 모든 document를 가져와야 한다.\n",
    "## 따라서 체인의 첫 순서에 Retriever를 넣어 준다.\n",
    "\n",
    "\"\"\"\n",
    "## 1. Retriever\n",
    "retriever = vectorstore.as_retriever()\n",
    "\n",
    "## 2. Prompt\n",
    "prompt = ChatPromptTemplate.from_messages([\n",
    "    (\"system\", \"You are a helpful assistant. Answer questions using only the following context. If you don't know the answer just say you don't know, don't make it up:\\n\\n{context}\"),\n",
    "    (\"human\", \"{question}\"),\n",
    "])\n",
    "\n",
    "from langchain.schema.runnable import RunnablePassthrough\n",
    "\n",
    "chain = {\"context\":retriever, \"question\": RunnablePassthrough()} | prompt | llm\n",
    "\n",
    "## chain\n",
    "\n",
    "##chain.run(\"Describe Victory Mansions\")\n",
    "chain.invoke(\"Describe Victory Mansions\") \n",
    "## retriever에 str(Describe...) input으로 call되고, context로 prompt에 들거가게 됨\n",
    "## question이 prompt로 전달되게 하기 위해 RunnablePassthrough를 사용함 (입력값을 다음 chain component에 던져줌)\n",
    "## 만약 extra라는 추가 key를 넣어 RunnablePassthrough로 넘겨준다고 해도, 이 값은 invoke 시 넣어준 'Describe...'가 됨 (question과 동일)\n",
    "\"\"\""
   ]
  },
  {
   "cell_type": "code",
   "execution_count": 15,
   "metadata": {},
   "outputs": [
    {
     "data": {
      "text/plain": [
       "AIMessage(content=\"Victory Mansions is a dilapidated building complex in London where Winston resides. It has cramped living conditions, with small apartments lacking basic amenities. The building has a telescreen in every apartment for surveillance by the Party. The hallway smells of boiled cabbage and old rag mats, with a poster of Big Brother watching. The building has a faulty lift and is home to all four Ministries of the government. Winston's apartment has a unique layout that allows him to stay out of sight of the telescreen while being heard.\")"
      ]
     },
     "execution_count": 15,
     "metadata": {},
     "output_type": "execute_result"
    }
   ],
   "source": [
    "## Map Reduce LCEL Chain\n",
    "from langchain.schema.runnable import RunnablePassthrough, RunnableLambda\n",
    "\n",
    "sub_prompt = ChatPromptTemplate.from_messages([\n",
    "    (\"system\",\n",
    "     \"\"\"\n",
    "     Use the following portion of a long document to see if any of the text is relevant to answer the question. Return any relevant text verbatim. If there is no relevant text, return : ''\n",
    "     ----------\n",
    "     {context}\n",
    "     \"\"\"\n",
    "     ),\n",
    "    (\"human\", \"{question}\")\n",
    "])\n",
    "\n",
    "retriever = vectorstore.as_retriever()\n",
    "\n",
    "## map_chain에는 사용자의 question이 message로 들어가므로 RunnablePassthrough 처리할 필요 없음\n",
    "map_doc_chain = sub_prompt | llm\n",
    "\n",
    "def map_docs(inputs):\n",
    "    documents = inputs[\"documents\"]\n",
    "    question = inputs[\"question\"]\n",
    "    return \"\\n\\n\".join(\n",
    "        map_doc_chain.invoke({\"question\":question, \"context\":doc.page_content}).content\n",
    "        ## 참고) page_content 는 langchain이 반환하는 Document class의 property이다.\n",
    "        for doc in documents\n",
    "    )\n",
    "\n",
    "## map_chain은 map_doc_chain을 통해 전달받은 documents를 마지막의 chain에 전달해주는 역할만 수행\n",
    "## RunnableLambda : 사용자 정의 함수를 실행할 수 있는 기능을 제공함\n",
    "\n",
    "map_chain = {\"documents\":retriever, \"question\":RunnablePassthrough(),} | RunnableLambda(map_docs)\n",
    "\n",
    "final_prompt = ChatPromptTemplate.from_messages([\n",
    "    (\n",
    "    \"system\", \n",
    "    \"\"\"\n",
    "    Given the following extracted parts of a long document and a question, create a final answer. \n",
    "    If you don't know the answer, just say that you don't know. Don't try to make up an answer.\n",
    "    ------\n",
    "    {context}\n",
    "    \"\"\"),\n",
    "    (\"human\", \"{question}\"),\n",
    "])\n",
    "\n",
    "\n",
    "\n",
    "chain = {\"context\":map_chain , \"question\":RunnablePassthrough()} | final_prompt | llm\n",
    "\n",
    "chain.invoke(\"Describe Victory Mansions\")"
   ]
  },
  {
   "cell_type": "code",
   "execution_count": null,
   "metadata": {},
   "outputs": [],
   "source": []
  }
 ],
 "metadata": {
  "kernelspec": {
   "display_name": "env",
   "language": "python",
   "name": "python3"
  },
  "language_info": {
   "codemirror_mode": {
    "name": "ipython",
    "version": 3
   },
   "file_extension": ".py",
   "mimetype": "text/x-python",
   "name": "python",
   "nbconvert_exporter": "python",
   "pygments_lexer": "ipython3",
   "version": "3.11.9"
  }
 },
 "nbformat": 4,
 "nbformat_minor": 2
}
