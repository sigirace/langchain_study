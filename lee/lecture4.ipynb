{
 "cells": [
  {
   "cell_type": "code",
   "execution_count": 15,
   "metadata": {},
   "outputs": [
    {
     "data": {
      "text/plain": [
       "'What is the capital of Korea'"
      ]
     },
     "execution_count": 15,
     "metadata": {},
     "output_type": "execute_result"
    }
   ],
   "source": [
    "from langchain.llms import OpenAI\n",
    "from langchain.chat_models import ChatOpenAI\n",
    "\n",
    "from langchain.schema import HumanMessage, AIMessage, SystemMessage\n",
    "from langchain.prompts import PromptTemplate, ChatPromptTemplate\n",
    "\n",
    "## FewShotPromptTemplate 실습을 위해 import\n",
    "from langchain.prompts.few_shot import FewShotPromptTemplate, FewShotChatMessagePromptTemplate\n",
    "\n",
    "## LengthBasedExampleSelector 실습을 위해 import\n",
    "from langchain.prompts.example_selector import LengthBasedExampleSelector\n",
    "\n",
    "## Cache 사용을 위해 import\n",
    "## SQLiteCache는 DB기반 캐싱\n",
    "from langchain.globals import set_llm_cache, set_debug\n",
    "from langchain.cache import InMemoryCache, SQLiteCache\n",
    "\n",
    "from langchain.callbacks import StreamingStdOutCallbackHandler\n",
    "\n",
    "## 캐싱 사용 설정\n",
    "## InMemoryCache 사용할 경우\n",
    "## set_llm_cache(InMemoryCache())\n",
    "## DB Cache 사용할 경우\n",
    "set_llm_cache(SQLiteCache(\"cache.db\"))\n",
    "\n",
    "\n",
    "## debug 설정\n",
    "set_debug(True)\n",
    "\n",
    "chat = ChatOpenAI(\n",
    "    temperature=0.1,\n",
    "    streaming=True,     ##Streaming 옵션 ON\n",
    "    callbacks=[StreamingStdOutCallbackHandler()]\n",
    ")\n",
    "\n",
    "## Template은 Disk에 Save/Load되기 때문에 이런 목적으로도 사용\n",
    "## large model 생성 시 Disk load\n",
    "## 정공법 코딩은 아래와 같음\n",
    "t = PromptTemplate(\n",
    "    template=\"What is the capital of {country}\",\n",
    "    input_variables=[\"country\"]\n",
    ")\n",
    "\n",
    "t.format(country=\"Korea\")\n"
   ]
  },
  {
   "cell_type": "markdown",
   "metadata": {},
   "source": [
    "## FewShotPromptTemplate\n",
    "답변에 대한 구체적인 요구사항이 필요할 경우, Prompt에서 줄글로 입력하는 것보다   \n",
    "몇 개의 예제를 제공해(Few-shot) 학습시키는 것이 더욱 효과적임\n",
    "\n",
    "Few-shot을 위해서는 답변 예제의 형식화가 필요함\n",
    "이를 위해서는 형식 지정 도구가 필요. 아래 예제의 경우 직접 작성했지만 일반적으로 database에서 가져올 것임.\n",
    "\n",
    "아래 예제에서 question에 대한 형식을 3개 주었고,\n",
    "answer에 대한 형식도 3개 주었음. answer의 경우 Capital, Language, Food, ... 로 형식화하여 주었음."
   ]
  },
  {
   "cell_type": "code",
   "execution_count": 16,
   "metadata": {},
   "outputs": [
    {
     "data": {
      "text/plain": [
       "'\\n    Human: What do you know about France?\\n    AI: \\n    Here is what I know:\\n    Capital: Paris\\n    Language: French\\n    Food: Wine and Cheese\\n    Currency: Euro\\n    \\n\\n\\nHuman: What do you know about Germany?'"
      ]
     },
     "execution_count": 16,
     "metadata": {},
     "output_type": "execute_result"
    }
   ],
   "source": [
    "## 특정 국가에 대해 무엇을 아나요? 라는 질문에 대한 examples (few-shot)\n",
    "examples = [\n",
    "{\n",
    "    \"question\": \"What do you know about France?\",\n",
    "    \"answer\": \"\"\"\n",
    "    Here is what I know:\n",
    "    Capital: Paris\n",
    "    Language: French\n",
    "    Food: Wine and Cheese\n",
    "    Currency: Euro\n",
    "    \"\"\",\n",
    "},\n",
    "{\n",
    "    \"question\": \"What do you know about Italy?\",\n",
    "    \"answer\": \"\"\"\n",
    "    I know this:\n",
    "    Capital: Rome\n",
    "    Language: Italian\n",
    "    Food: Pizza and Pasta\n",
    "    Currency: Euro\n",
    "    \"\"\",\n",
    "},\n",
    "{\n",
    "    \"question\": \"What do you know about Greece?\",\n",
    "    \"answer\": \"\"\"\n",
    "    I know this:\n",
    "    Capital: Athens\n",
    "    Language: Greek\n",
    "    Food: Souvlaki and Feta Cheese\n",
    "    Currency: Euro\n",
    "    \"\"\",\n",
    "},\n",
    "]\n",
    "\n",
    "example_template = \"\"\"\n",
    "    Human: {question}\n",
    "    AI: {answer}\n",
    "\"\"\"\n",
    "\n",
    "example_prompt = PromptTemplate.from_template(example_template)\n",
    "\n",
    "##Example Seletor\n",
    "example_selector=LengthBasedExampleSelector(\n",
    "    examples=examples,\n",
    "    example_prompt=example_prompt,\n",
    "    max_length=80,  ## 이 값에 따라 예제의 양을 정해줄 수 있음\n",
    ")\n",
    "\n",
    "## FewShotPrompt 에 example을 set\n",
    "prompt = FewShotPromptTemplate(\n",
    "    example_prompt=example_prompt,\n",
    "    ##examples=examples,  --- 위의 selector 사용을 위해 주석처리\n",
    "    example_selector=example_selector,\n",
    "    suffix=\"Human: What do you know about {country}?\", ##형식화된 모든 예제 마지막에 나오는 내용 (질문)\n",
    "    input_variables=[\"country\"], ## 어떤 변수를 suffix에서 사용할 것인지 \n",
    ")\n",
    "\n",
    "prompt.format(country=\"Germany\")\n",
    "\n"
   ]
  },
  {
   "cell_type": "markdown",
   "metadata": {},
   "source": [
    "## FewShotChatMessagePromptTemplate"
   ]
  },
  {
   "cell_type": "code",
   "execution_count": 16,
   "metadata": {},
   "outputs": [
    {
     "name": "stdout",
     "output_type": "stream",
     "text": [
      "\n",
      "    I know this:\n",
      "    Capital: Berlin\n",
      "    Language: German\n",
      "    Food: Bratwurst and Sauerkraut\n",
      "    Currency: Euro"
     ]
    },
    {
     "data": {
      "text/plain": [
       "AIMessageChunk(content='\\n    I know this:\\n    Capital: Berlin\\n    Language: German\\n    Food: Bratwurst and Sauerkraut\\n    Currency: Euro')"
      ]
     },
     "execution_count": 16,
     "metadata": {},
     "output_type": "execute_result"
    }
   ],
   "source": [
    "\"\"\"\n",
    "\n",
    "example_prompt2 = ChatPromptTemplate.from_messages([\n",
    "    (\"human\", \"What do you know about {country}?\"),\n",
    "    (\"ai\", \"{answer}\"), \n",
    "])\n",
    "\n",
    "example_prompt2 = FewShotChatMessagePromptTemplate(\n",
    "    example_prompt=example_prompt2,\n",
    "    examples=examples2\n",
    ")\n",
    "\n",
    "\n",
    "final_prompt = ChatPromptTemplate.from_messages([\n",
    "    (\"system\", \"You are a geography expert, you give short answers.\"),\n",
    "    example_prompt2,\n",
    "    (\"human\", \"What do you know about {country}?\"),\n",
    "])\n",
    "\n",
    "chain2 = final_prompt | chat\n",
    "chain2.invoke({\n",
    "    \"country\":\"Germany\"\n",
    "})\n",
    "\"\"\""
   ]
  },
  {
   "cell_type": "markdown",
   "metadata": {},
   "source": [
    "## LengthBasedExampleSelector\n",
    "\n",
    "example의 동적 선택 지원 (어느 정도의 example을 선택해 prompt에 허용할 것인지를 결정)   \n",
    "예제 형식화 및 그 양이 얼마나 되는지 확인 가능 + 설정값에 따라 prompt에 알맞은 예제를 골라 줌   \n",
    "이 selector의 경우 말 그대로 예제의 length를 설정하고, 그 값을 기준으로 example을 선택 (허용량 한계치로 이해)   \n",
    "유저의 로그인 여부 또는 유저가 사용하는 언어에 따라 example들을 얼마나 허용할 지 정할 수 있음   \n",
    "\n",
    "### 이 외에도...\n",
    "- Similarity 기반\n",
    "- MMR (Max Marginal Relevance) 기반\n",
    "- N-gram 기반"
   ]
  },
  {
   "cell_type": "code",
   "execution_count": 28,
   "metadata": {},
   "outputs": [
    {
     "data": {
      "text/plain": [
       "'Human:What do you know about Greece?\\nAI:\\n    I know this:\\n    Capital: Athens\\n    Language: Greek\\n    Food: Souvlaki and Feta Cheese\\n    Currency: Euro\\n    \\n\\nHuman: What do you know about Brazil?'"
      ]
     },
     "execution_count": 28,
     "metadata": {},
     "output_type": "execute_result"
    }
   ],
   "source": [
    "### randomExampleSelector\n",
    "from typing import Any, Dict\n",
    "from langchain.prompts.example_selector.base import BaseExampleSelector\n",
    "\n",
    "class RandomExampleSelector(BaseExampleSelector):\n",
    "    def __init__(self, examples):\n",
    "        self.examples = examples\n",
    "\n",
    "    def add_example(self, example):\n",
    "        self.examples.append(example)\n",
    "\n",
    "    def select_examples(self, input_variables):\n",
    "        from random import choice\n",
    "        return [choice(self.examples)]\n",
    "\n",
    "\n",
    "example_selector_r = RandomExampleSelector(\n",
    "    examples=examples,\n",
    ")\n",
    "\n",
    "prompt_r = FewShotPromptTemplate(\n",
    "    example_prompt=example_prompt,\n",
    "    example_selector=example_selector_r,\n",
    "    suffix=\"Human: What do you know about {country}?\", ##형식화된 모든 예제 마지막에 나오는 내용 (질문)\n",
    "    input_variables=[\"country\"], ## 어떤 변수를 suffix에서 사용할 것인지 \n",
    ")\n",
    "\n",
    "prompt_r.format(country=\"Brazil\")"
   ]
  },
  {
   "cell_type": "code",
   "execution_count": 4,
   "metadata": {},
   "outputs": [
    {
     "data": {
      "text/plain": [
       "'What is the capital of Germany'"
      ]
     },
     "execution_count": 4,
     "metadata": {},
     "output_type": "execute_result"
    }
   ],
   "source": [
    "## 파일을 통해 prompt 가져오기\n",
    "from langchain.prompts import load_prompt\n",
    "\n",
    "## json / yaml prompt load\n",
    "prompt_ser = load_prompt(\"./prompt.yaml\")\n",
    "\n",
    "prompt_ser.format(country=\"Germany\")\n",
    "\n",
    "\n",
    "## 여러 prompt를 합칠 수 있도록 하는 Tempalte\n",
    "from langchain.prompts.pipeline import PipelinePromptTemplate\n",
    "\n",
    "intro = PromptTemplate.from_template(\n",
    "    \"\"\"\n",
    "    You are a role playing assistant.\n",
    "    And you are impersonating a {character}\n",
    "\"\"\"\n",
    ")\n",
    "\n",
    "example = PromptTemplate.from_template(\n",
    "    \"\"\"\n",
    "    This is an example of how you talk:\n",
    "\n",
    "    Human: {example_question}\n",
    "    You: {example_answer}\n",
    "\"\"\"\n",
    ")\n",
    "\n",
    "start = PromptTemplate.from_template(\n",
    "    \"\"\"\n",
    "    Start now!\n",
    "\n",
    "    Human: {question}\n",
    "    You:\n",
    "\"\"\"\n",
    ")\n",
    "\n",
    "# final prompt는 intro, example, start를 합친 Template임.\n",
    "final = PromptTemplate.from_template(\n",
    "    ## 이 예제에서는 role playing을 주제로 하였으며,\n",
    "    ## intro : AI에게 부여할 role에 대한 Template\n",
    "    ## example : 대화에 대한 예시 Template (kind of Few-shot)\n",
    "    ## start : AI 도우미가 text를 완성시켜 주는 Template\n",
    "    \"\"\"\n",
    "    {intro}\n",
    "                                     \n",
    "    {example}\n",
    "                              \n",
    "    {start}\n",
    "\"\"\"\n",
    ")\n",
    "\n",
    "## prompt\n",
    "prompts = [\n",
    "    (\"intro\", intro),\n",
    "    (\"example\", example),\n",
    "    (\"start\", start),\n",
    "]\n",
    "\n",
    "full_prompt = PipelinePromptTemplate(final_prompt=final,)\n"
   ]
  },
  {
   "cell_type": "markdown",
   "metadata": {},
   "source": [
    "## Caching\n",
    "predict 때마다 답변을 생성하지 않고, cache 를 통해 답변속도를 향상\n",
    "\n",
    "1. InMemoryCache\n",
    "2. "
   ]
  },
  {
   "cell_type": "code",
   "execution_count": 14,
   "metadata": {},
   "outputs": [
    {
     "name": "stdout",
     "output_type": "stream",
     "text": [
      "\u001b[32;1m\u001b[1;3m[llm/start]\u001b[0m \u001b[1m[1:llm:ChatOpenAI] Entering LLM run with input:\n",
      "\u001b[0m{\n",
      "  \"prompts\": [\n",
      "    \"Human: How do you make italian pasta\"\n",
      "  ]\n",
      "}\n",
      "To make Italian pasta, you will need the following ingredients:\n",
      "\n",
      "- 2 cups of all-purpose flour\n",
      "- 2 large eggs\n",
      "- 1/2 teaspoon of salt\n",
      "- Water (if needed)\n",
      "\n",
      "Here is a step-by-step guide on how to make Italian pasta:\n",
      "\n",
      "1. On a clean work surface, pour the flour and make a well in the center.\n",
      "2. Crack the eggs into the well and add the salt.\n",
      "3. Using a fork, gradually mix the eggs into the flour until a dough forms.\n",
      "4. Knead the dough for about 10 minutes until it becomes smooth and elastic. If the dough is too dry, add a little water. If it is too wet, add a little more flour.\n",
      "5. Wrap the dough in plastic wrap and let it rest for at least 30 minutes.\n",
      "6. After resting, divide the dough into smaller portions and roll each portion out into a thin sheet using a pasta machine or a rolling pin.\n",
      "7. Cut the pasta sheet into your desired shape, such as fettuccine, spaghetti, or ravioli.\n",
      "8. Cook the pasta in a large pot of salted boiling water for 2-3 minutes or until al dente.\n",
      "9. Drain the pasta and toss it with your favorite sauce or toppings.\n",
      "\n",
      "Enjoy your homemade Italian pasta!\u001b[36;1m\u001b[1;3m[llm/end]\u001b[0m \u001b[1m[1:llm:ChatOpenAI] [3.65s] Exiting LLM run with output:\n",
      "\u001b[0m{\n",
      "  \"generations\": [\n",
      "    [\n",
      "      {\n",
      "        \"text\": \"To make Italian pasta, you will need the following ingredients:\\n\\n- 2 cups of all-purpose flour\\n- 2 large eggs\\n- 1/2 teaspoon of salt\\n- Water (if needed)\\n\\nHere is a step-by-step guide on how to make Italian pasta:\\n\\n1. On a clean work surface, pour the flour and make a well in the center.\\n2. Crack the eggs into the well and add the salt.\\n3. Using a fork, gradually mix the eggs into the flour until a dough forms.\\n4. Knead the dough for about 10 minutes until it becomes smooth and elastic. If the dough is too dry, add a little water. If it is too wet, add a little more flour.\\n5. Wrap the dough in plastic wrap and let it rest for at least 30 minutes.\\n6. After resting, divide the dough into smaller portions and roll each portion out into a thin sheet using a pasta machine or a rolling pin.\\n7. Cut the pasta sheet into your desired shape, such as fettuccine, spaghetti, or ravioli.\\n8. Cook the pasta in a large pot of salted boiling water for 2-3 minutes or until al dente.\\n9. Drain the pasta and toss it with your favorite sauce or toppings.\\n\\nEnjoy your homemade Italian pasta!\",\n",
      "        \"generation_info\": {\n",
      "          \"finish_reason\": \"stop\"\n",
      "        },\n",
      "        \"type\": \"ChatGenerationChunk\",\n",
      "        \"message\": {\n",
      "          \"lc\": 1,\n",
      "          \"type\": \"constructor\",\n",
      "          \"id\": [\n",
      "            \"langchain\",\n",
      "            \"schema\",\n",
      "            \"messages\",\n",
      "            \"AIMessageChunk\"\n",
      "          ],\n",
      "          \"kwargs\": {\n",
      "            \"example\": false,\n",
      "            \"content\": \"To make Italian pasta, you will need the following ingredients:\\n\\n- 2 cups of all-purpose flour\\n- 2 large eggs\\n- 1/2 teaspoon of salt\\n- Water (if needed)\\n\\nHere is a step-by-step guide on how to make Italian pasta:\\n\\n1. On a clean work surface, pour the flour and make a well in the center.\\n2. Crack the eggs into the well and add the salt.\\n3. Using a fork, gradually mix the eggs into the flour until a dough forms.\\n4. Knead the dough for about 10 minutes until it becomes smooth and elastic. If the dough is too dry, add a little water. If it is too wet, add a little more flour.\\n5. Wrap the dough in plastic wrap and let it rest for at least 30 minutes.\\n6. After resting, divide the dough into smaller portions and roll each portion out into a thin sheet using a pasta machine or a rolling pin.\\n7. Cut the pasta sheet into your desired shape, such as fettuccine, spaghetti, or ravioli.\\n8. Cook the pasta in a large pot of salted boiling water for 2-3 minutes or until al dente.\\n9. Drain the pasta and toss it with your favorite sauce or toppings.\\n\\nEnjoy your homemade Italian pasta!\",\n",
      "            \"additional_kwargs\": {}\n",
      "          }\n",
      "        }\n",
      "      }\n",
      "    ]\n",
      "  ],\n",
      "  \"llm_output\": null,\n",
      "  \"run\": null\n",
      "}\n"
     ]
    },
    {
     "data": {
      "text/plain": [
       "'To make Italian pasta, you will need the following ingredients:\\n\\n- 2 cups of all-purpose flour\\n- 2 large eggs\\n- 1/2 teaspoon of salt\\n- Water (if needed)\\n\\nHere is a step-by-step guide on how to make Italian pasta:\\n\\n1. On a clean work surface, pour the flour and make a well in the center.\\n2. Crack the eggs into the well and add the salt.\\n3. Using a fork, gradually mix the eggs into the flour until a dough forms.\\n4. Knead the dough for about 10 minutes until it becomes smooth and elastic. If the dough is too dry, add a little water. If it is too wet, add a little more flour.\\n5. Wrap the dough in plastic wrap and let it rest for at least 30 minutes.\\n6. After resting, divide the dough into smaller portions and roll each portion out into a thin sheet using a pasta machine or a rolling pin.\\n7. Cut the pasta sheet into your desired shape, such as fettuccine, spaghetti, or ravioli.\\n8. Cook the pasta in a large pot of salted boiling water for 2-3 minutes or until al dente.\\n9. Drain the pasta and toss it with your favorite sauce or toppings.\\n\\nEnjoy your homemade Italian pasta!'"
      ]
     },
     "execution_count": 14,
     "metadata": {},
     "output_type": "execute_result"
    }
   ],
   "source": [
    "chat.predict(\"How do you make italian pasta\")\n",
    "## 1회차 : 3.4s\n",
    "## 2회차 : 0.0s\n",
    "## 같은 질문에 대해 답변을 재활용하여 효율 증대\n"
   ]
  },
  {
   "cell_type": "markdown",
   "metadata": {},
   "source": [
    "suffix : 예제를 던진 뒤에 나오는 진짜 궁금한 질문 (이 예시처럼 내 질문에 대답해줘)"
   ]
  }
 ],
 "metadata": {
  "kernelspec": {
   "display_name": "env",
   "language": "python",
   "name": "python3"
  },
  "language_info": {
   "codemirror_mode": {
    "name": "ipython",
    "version": 3
   },
   "file_extension": ".py",
   "mimetype": "text/x-python",
   "name": "python",
   "nbconvert_exporter": "python",
   "pygments_lexer": "ipython3",
   "version": "3.11.9"
  }
 },
 "nbformat": 4,
 "nbformat_minor": 2
}
