{
 "cells": [
  {
   "cell_type": "markdown",
   "metadata": {},
   "source": [
    "# Lecture 2 and 3"
   ]
  },
  {
   "cell_type": "code",
   "execution_count": 2,
   "metadata": {},
   "outputs": [
    {
     "data": {
      "text/plain": [
       "True"
      ]
     },
     "execution_count": 2,
     "metadata": {},
     "output_type": "execute_result"
    }
   ],
   "source": [
    "from dotenv import load_dotenv\n",
    "load_dotenv()"
   ]
  },
  {
   "cell_type": "code",
   "execution_count": 8,
   "metadata": {},
   "outputs": [
    {
     "name": "stderr",
     "output_type": "stream",
     "text": [
      "/Users/hwangms/Documents/workspace/LLM_Study/langchain_study/hwang/env/lib/python3.11/site-packages/langchain/llms/openai.py:216: UserWarning: You are trying to use a chat model. This way of initializing it is no longer supported. Instead, please use: `from langchain.chat_models import ChatOpenAI`\n",
      "  warnings.warn(\n",
      "/Users/hwangms/Documents/workspace/LLM_Study/langchain_study/hwang/env/lib/python3.11/site-packages/langchain/llms/openai.py:811: UserWarning: You are trying to use a chat model. This way of initializing it is no longer supported. Instead, please use: `from langchain.chat_models import ChatOpenAI`\n",
      "  warnings.warn(\n"
     ]
    },
    {
     "data": {
      "text/plain": [
       "'As of now, there are eight recognized planets in our solar system. They are, in order from the Sun:\\n\\n1. Mercury\\n2. Venus\\n3. Earth\\n4. Mars\\n5. Jupiter\\n6. Saturn\\n7. Uranus\\n8. Neptune\\n\\nAdditionally, there are numerous dwarf planets, such as Pluto, Eris, and Haumea. In total, the number of known planets in the universe is vast, as astronomers have discovered thousands of exoplanets (planets outside our solar system) in various star systems. The exact number is constantly changing as new discoveries are made.'"
      ]
     },
     "execution_count": 8,
     "metadata": {},
     "output_type": "execute_result"
    }
   ],
   "source": [
    "# 3.0 LLMs and Chat Models \n",
    "\n",
    "from langchain.llms.openai import OpenAI\n",
    "from langchain.chat_models import ChatOpenAI, ChatAnthropic\n",
    "# from langchain.chat_models import ChatOllama\n",
    "\n",
    "# llm = ChatOllama(model=\"llama3:latest\")\n",
    "\n",
    "llm = OpenAI(model_name='gpt-4o-mini')\n",
    "chat = ChatOpenAI(model_name='gpt-4o-mini')\n",
    "\n",
    "a = llm.predict(\"How many planets are there?\")\n",
    "b = chat.predict(\"How many planets are there?\")\n",
    "\n",
    "a"
   ]
  },
  {
   "cell_type": "code",
   "execution_count": 7,
   "metadata": {},
   "outputs": [],
   "source": [
    "# 3.1 Predicct Messages\n",
    "\n",
    "from langchain.chat_models import ChatOpenAI\n",
    "\n",
    "chat = ChatOpenAI(model_name='gpt-4o-mini', temperature=0.1)"
   ]
  },
  {
   "cell_type": "code",
   "execution_count": 9,
   "metadata": {},
   "outputs": [
    {
     "data": {
      "text/plain": [
       "AIMessage(content='Ciao Paolo!\\n\\nIl mio nome è Geografia, e sono felice di aiutarti! La distanza tra Messico e Tailandia è di circa 18.000 chilometri.\\n\\nBuona giornata!')"
      ]
     },
     "execution_count": 9,
     "metadata": {},
     "output_type": "execute_result"
    }
   ],
   "source": [
    "from langchain.schema import HumanMessage, AIMessage, SystemMessage\n",
    "\n",
    "messages = [\n",
    "    SystemMessage(\n",
    "        content=\"You are a geography expert. And you only reply in Italian.\",\n",
    "    ),\n",
    "    AIMessage(content=\"Ciao, mi chiamo Paolo!\"),\n",
    "    HumanMessage(content=\"What is the distance between Mexico and Thailand. Also, What is your name?\",)\n",
    "]\n",
    "\n",
    "chat.predict_messages(messages)"
   ]
  },
  {
   "cell_type": "code",
   "execution_count": null,
   "metadata": {},
   "outputs": [],
   "source": [
    "from langchain.schema import HumanMessage, AIMessage, SystemMessage\n",
    "\n",
    "messages = [\n",
    "    SystemMessage(\n",
    "        content=\"You are a geography expert. And you only reply in {language}.\",\n",
    "    ),\n",
    "    AIMessage(content=\"Ciao, mi chiamo {name}!\"),\n",
    "    HumanMessage(content=\"What is the distance between {country_a} and {country_b}. Also, What is your name?\",)\n",
    "]\n",
    "\n",
    "chat.predict_messages(messages)"
   ]
  },
  {
   "cell_type": "markdown",
   "metadata": {},
   "source": [
    "## 3.2 Prompt Templates"
   ]
  },
  {
   "cell_type": "code",
   "execution_count": 15,
   "metadata": {},
   "outputs": [
    {
     "data": {
      "text/plain": [
       "[SystemMessage(content='You are a geography expert. And you only reply in Greek.'),\n",
       " AIMessage(content='Ciao, mi chiamo Socrates!'),\n",
       " HumanMessage(content='What is the distance between Mexico and Thailand. Also, What is your name?')]"
      ]
     },
     "execution_count": 15,
     "metadata": {},
     "output_type": "execute_result"
    }
   ],
   "source": [
    "from langchain.chat_models import ChatOpenAI\n",
    "\n",
    "from langchain.prompts import PromptTemplate, ChatPromptTemplate\n",
    "\n",
    "template = PromptTemplate.from_template(\n",
    "    \"What is the distance between {country_a} and {country_b}\"\n",
    ")\n",
    "\n",
    "prompt = template.format(country_a=\"Mexico\", country_b=\"Thailand\")\n",
    "\n",
    "chat = ChatOpenAI(model_name='gpt-4o-mini', temperature=0.1)\n",
    "\n",
    "chat.predict(prompt)\n",
    "\n",
    "\n",
    "template = ChatPromptTemplate.from_messages(\n",
    "    [\n",
    "        (\"system\", \"You are a geography expert. And you only reply in {language}.\"),\n",
    "        (\"ai\", \"Ciao, mi chiamo {name}!\"),\n",
    "        (\n",
    "            \"human\",\n",
    "            \"What is the distance between {country_a} and {country_b}. Also, What is your name?\",\n",
    "        ),\n",
    "    ]   \n",
    ")\n",
    "\n",
    "template.format_messages(\n",
    "    language=\"Greek\",\n",
    "    name=\"Socrates\",\n",
    "    country_a=\"Mexico\",\n",
    "    country_b=\"Thailand\",\n",
    ")"
   ]
  },
  {
   "cell_type": "markdown",
   "metadata": {},
   "source": [
    "## 3.3 OutputParser and LCEL(LangChain Expression Language, 표현언어)"
   ]
  },
  {
   "cell_type": "code",
   "execution_count": null,
   "metadata": {},
   "outputs": [],
   "source": [
    "from langchain.chat_models import ChatOpenAI\n",
    "from langchain.prompts import ChatPromptTemplate\n",
    "\n",
    "chat = ChatOpenAI(model_name='gpt-4o-mini', temperature=0.1)\n"
   ]
  },
  {
   "cell_type": "code",
   "execution_count": 21,
   "metadata": {},
   "outputs": [
    {
     "data": {
      "text/plain": [
       "['Hello', 'how', 'are', 'you']"
      ]
     },
     "execution_count": 21,
     "metadata": {},
     "output_type": "execute_result"
    }
   ],
   "source": [
    "from langchain.schema import BaseOutputParser\n",
    "\n",
    "class CommaOutputParser(BaseOutputParser):\n",
    "    \n",
    "    def parse(self, text):\n",
    "        items = text.strip().split(\",\") # 앞뒤 공백 제거 및 쉼표(,)기준으로 리스트로 변환 \n",
    "        return list(map(str.strip,items))\n",
    "    \n",
    "    \n",
    "p = CommaOutputParser()\n",
    "p.parse(\"Hello, how, are, you\")\n",
    "    \n"
   ]
  },
  {
   "cell_type": "code",
   "execution_count": 28,
   "metadata": {},
   "outputs": [
    {
     "data": {
      "text/plain": [
       "['bulbasaur', 'charmander', 'squirtle', 'pikachu', 'charizard']"
      ]
     },
     "execution_count": 28,
     "metadata": {},
     "output_type": "execute_result"
    }
   ],
   "source": [
    "template = ChatPromptTemplate.from_messages(\n",
    "    [\n",
    "        (\n",
    "            \"system\",\n",
    "            \"You are a list generating machine. Everything you are asked will be\\\n",
    "            answered with a comma separated list of max {max_items} in lowercase. Do NOT reply with anything else.\",\n",
    "        ),\n",
    "        (\"human\", \"{question}\"),\n",
    "    ]\n",
    ")\n",
    "\n",
    "# 원본 소스 \n",
    "# prompt = template.format_messages(max_items=10, question=\"What are the colors?\")\n",
    "# result = chat.predict_messages(prompt)\n",
    "# p = CommaOutputParser()\n",
    "# p.parse(result.content)\n",
    "\n",
    "# chain을 통해 코드 단축 가능 \n",
    "chain = template | chat | CommaOutputParser()\n",
    "\n",
    "chain.invoke({\n",
    "    \"max_items\":5,\n",
    "    \"question\":\"What are the pokemons?\"\n",
    "})\n",
    "\n",
    "\n",
    "# chain을 여러개 둘 수 있음 \n",
    "chain_one = template | chat | CommaOutputParser()\n",
    "chain_two = template2 | chat | outputparser \n",
    "\n",
    "all = chain_one | chain_two | output\n",
    "\n",
    "chain.invoke({\n",
    "    \"max_items\":5,\n",
    "    \"question\":\"What are the pokemons?\"\n",
    "})"
   ]
  },
  {
   "cell_type": "markdown",
   "metadata": {},
   "source": [
    "## 3.4 Chaining Chains"
   ]
  },
  {
   "cell_type": "code",
   "execution_count": 6,
   "metadata": {},
   "outputs": [
    {
     "name": "stdout",
     "output_type": "stream",
     "text": [
      "That sounds great! Indian cuisine is diverse and flavorful. Here are a few popular Indian dishes you might consider cooking, along with brief descriptions and basic recipes:\n",
      "\n",
      "### 1. **Butter Chicken (Murgh Makhani)**\n",
      "A rich and creamy chicken dish cooked in a spiced tomato sauce.\n",
      "\n",
      "**Ingredients:**\n",
      "- 500g chicken (boneless, cut into pieces)\n",
      "- 1 cup yogurt\n",
      "- 2 tablespoons butter\n",
      "- 1 onion (finely chopped)\n",
      "- 2 tomatoes (pureed)\n",
      "- 1 tablespoon ginger-garlic paste\n",
      "- 1 teaspoon garam masala\n",
      "- 1 teaspoon chili powder\n",
      "- 1 cup cream\n",
      "- Salt to taste\n",
      "- Fresh coriander for garnish\n",
      "\n",
      "**Instructions:**\n",
      "1. Marinate the chicken in yogurt, ginger-garlic paste, chili powder, and salt for at least 1 hour.\n",
      "2. In a pan, melt butter and sauté onions until golden brown.\n",
      "3. Add the marinated chicken and cook until browned.\n",
      "4. Stir in the tomato puree and cook for 10 minutes.\n",
      "5. Add cream and garam masala, simmer for another 10 minutes.\n",
      "6. Garnish with coriander and serve with naan or rice.\n",
      "\n",
      "### 2. **Chana Masala**\n",
      "A hearty and spicy chickpea curry.\n",
      "\n",
      "**Ingredients:**\n",
      "- 2 cups chickpeas (cooked or canned)\n",
      "- 1 onion (finely chopped)\n",
      "- 2 tomatoes (chopped)\n",
      "- 1 tablespoon ginger-garlic paste\n",
      "- 1 teaspoon cumin seeds\n",
      "- 1 teaspoon coriander powder\n",
      "- 1 teaspoon cumin powder\n",
      "- 1 teaspoon garam masala\n",
      "- 1 teaspoon chili powder\n",
      "- Salt to taste\n",
      "- Fresh coriander for garnish\n",
      "\n",
      "**Instructions:**\n",
      "1. Heat oil in a pan and add cumin seeds.\n",
      "2. Once they splutter, add onions and sauté until golden.\n",
      "3. Add ginger-garlic paste and cook for a minute.\n",
      "4. Stir in tomatoes and cook until soft.\n",
      "5. Add spices (coriander, cumin, garam masala, chili powder) and salt.\n",
      "6. Add chickpeas and a little water, simmer for 10-15 minutes.\n",
      "7. Garnish with coriander and serve with rice or bread.\n",
      "\n",
      "### 3. **Palak Paneer**\n",
      "A vegetarian dish made with spinach and paneer (Indian cottage cheese).\n",
      "\n",
      "**Ingredients:**\n",
      "- 2 cups spinach (blanched)\n",
      "- 200g paneer (cubed)\n",
      "- 1 onion (finely chopped)\n",
      "- 1 tomato (pureed)\n",
      "- 1 tablespoon ginger-garlic paste\n",
      "- 1 teaspoon cumin seeds\n",
      "- 1 teaspoon garam masala\n",
      "- 1/2 cup cream (optional)\n",
      "- Salt to taste\n",
      "\n",
      "**Instructions:**\n",
      "1. Blend the blanched spinach into a smooth paste.\n",
      "2. Heat oil in a pan, add cumin seeds, and sauté onions until golden.\n",
      "3. Add ginger-garlic paste and cook for a minute.\n",
      "4. Stir in the tomato puree and cook until oil separates.\n",
      "5. Add the spinach paste, garam masala, and salt. Cook for 5 minutes.\n",
      "6. Add paneer cubes and cream (if using), simmer for another 5 minutes.\n",
      "7. Serve with naan or rice.\n",
      "\n",
      "### 4. **Biryani**\n",
      "A fragrant rice dish layered with marinated meat or vegetables.\n",
      "\n",
      "**Ingredients:**\n",
      "- 2 cups basmati rice\n",
      "- 500g chicken or vegetables\n",
      "- 1 onion (sliced)\n",
      "- 2 tomatoes (chopped)\n",
      "- 1 tablespoon ginger-garlic paste\n",
      "- 1 teaspoon biryani masala\n",
      "- 1/2 cup yogurt\n",
      "- Fresh mint and coriander leaves\n",
      "- Whole spices (bay leaf, cloves, cardamom, cinnamon)\n",
      "- Salt to taste\n",
      "\n",
      "**Instructions:**\n",
      "1. Marinate chicken/vegetables with yogurt, ginger-garlic paste, biryani masala, and salt for at least 1 hour.\n",
      "2. Cook rice until 70% done and set aside.\n",
      "3. In a pot, heat oil and fry onions until golden. Add whole spices.\n",
      "4. Add marinated chicken/vegetables and cook until done.\n",
      "5. Layer the partially cooked rice over the chicken/vegetables, sprinkle mint and coriander.\n",
      "6. Cover and cook on low heat for 20-25 minutes.\n",
      "7. Serve with raita (yogurt sauce).\n",
      "\n",
      "### Tips:\n",
      "- Adjust spices according to your taste.\n",
      "- Serve with rice, naan, or roti.\n",
      "- Don’t forget to garnish with fresh herbs for added flavor!\n",
      "\n",
      "Enjoy your cooking! If you have a specific dish in mind or need more recipes, feel free to ask!Here are vegetarian alternatives for the Indian dishes you mentioned, along with their preparation:\n",
      "\n",
      "### 1. **Vegetarian Butter Chicken (Murgh Makhani)**\n",
      "Instead of chicken, we can use **tofu** or **paneer** as the protein source.\n",
      "\n",
      "**Ingredients:**\n",
      "- 500g tofu or paneer (cubed)\n",
      "- 1 cup yogurt (use plant-based yogurt for vegan)\n",
      "- 2 tablespoons butter (or vegan butter)\n",
      "- 1 onion (finely chopped)\n",
      "- 2 tomatoes (pureed)\n",
      "- 1 tablespoon ginger-garlic paste\n",
      "- 1 teaspoon garam masala\n",
      "- 1 teaspoon chili powder\n",
      "- 1 cup cream (use coconut cream for vegan)\n",
      "- Salt to taste\n",
      "- Fresh coriander for garnish\n",
      "\n",
      "**Instructions:**\n",
      "1. Marinate the tofu or paneer in yogurt, ginger-garlic paste, chili powder, and salt for at least 1 hour.\n",
      "2. In a pan, melt butter and sauté onions until golden brown.\n",
      "3. Add the marinated tofu or paneer and cook until browned.\n",
      "4. Stir in the tomato puree and cook for 10 minutes.\n",
      "5. Add cream and garam masala, simmer for another 10 minutes.\n",
      "6. Garnish with coriander and serve with naan or rice.\n",
      "\n",
      "### 2. **Chana Masala**\n",
      "This dish is already vegetarian! Just ensure you use canned chickpeas without any non-vegetarian additives.\n",
      "\n",
      "**Ingredients:**\n",
      "- 2 cups chickpeas (cooked or canned)\n",
      "- 1 onion (finely chopped)\n",
      "- 2 tomatoes (chopped)\n",
      "- 1 tablespoon ginger-garlic paste\n",
      "- 1 teaspoon cumin seeds\n",
      "- 1 teaspoon coriander powder\n",
      "- 1 teaspoon cumin powder\n",
      "- 1 teaspoon garam masala\n",
      "- 1 teaspoon chili powder\n",
      "- Salt to taste\n",
      "- Fresh coriander for garnish\n",
      "\n",
      "**Instructions:**\n",
      "1. Heat oil in a pan and add cumin seeds.\n",
      "2. Once they splutter, add onions and sauté until golden.\n",
      "3. Add ginger-garlic paste and cook for a minute.\n",
      "4. Stir in tomatoes and cook until soft.\n",
      "5. Add spices (coriander, cumin, garam masala, chili powder) and salt.\n",
      "6. Add chickpeas and a little water, simmer for 10-15 minutes.\n",
      "7. Garnish with coriander and serve with rice or bread.\n",
      "\n",
      "### 3. **Palak Paneer**\n",
      "For a vegetarian version, you can keep the paneer or replace it with **tofu** for a vegan option.\n",
      "\n",
      "**Ingredients:**\n",
      "- 2 cups spinach (blanched)\n",
      "- 200g paneer or tofu (cubed)\n",
      "- 1 onion (finely chopped)\n",
      "- 1 tomato (pureed)\n",
      "- 1 tablespoon ginger-garlic paste\n",
      "- 1 teaspoon cumin seeds\n",
      "- 1 teaspoon garam masala\n",
      "- 1/2 cup cream (use coconut cream for vegan)\n",
      "- Salt to taste\n",
      "\n",
      "**Instructions:**\n",
      "1. Blend the blanched spinach into a smooth paste.\n",
      "2. Heat oil in a pan, add cumin seeds, and sauté onions until golden.\n",
      "3. Add ginger-garlic paste and cook for a minute.\n",
      "4. Stir in the tomato puree and cook until oil separates.\n",
      "5. Add the spinach paste, garam masala, and salt. Cook for 5 minutes.\n",
      "6. Add paneer or tofu cubes and cream (if using), simmer for another 5 minutes.\n",
      "7. Serve with naan or rice.\n",
      "\n",
      "### 4. **Vegetable Biryani**\n",
      "Instead of chicken, use a mix of your favorite vegetables like carrots, peas, and bell peppers.\n",
      "\n",
      "**Ingredients:**\n",
      "- 2 cups basmati rice\n",
      "- 500g mixed vegetables (carrots, peas, bell peppers, etc.)\n",
      "- 1 onion (sliced)\n",
      "- 2 tomatoes (chopped)\n",
      "- 1 tablespoon ginger-garlic paste\n",
      "- 1 teaspoon biryani masala\n",
      "- 1/2 cup yogurt (use plant-based yogurt for vegan)\n",
      "- Fresh mint and coriander leaves\n",
      "- Whole spices (bay leaf, cloves, cardamom, cinnamon)\n",
      "- Salt to taste\n",
      "\n",
      "**Instructions:**\n",
      "1. Marinate the mixed vegetables with yogurt, ginger-garlic paste, biryani masala, and salt for at least 1 hour.\n",
      "2. Cook rice until 70% done and set aside.\n",
      "3. In a pot, heat oil and fry onions until golden. Add whole spices.\n",
      "4. Add marinated vegetables and cook until done.\n",
      "5. Layer the partially cooked rice over the vegetables, sprinkle mint and coriander.\n",
      "6. Cover and cook on low heat for 20-25 minutes.\n",
      "7. Serve with raita (yogurt sauce).\n",
      "\n",
      "Enjoy your vegetarian cooking! If you have any other specific dishes in mind or need more recipes, feel free to ask!"
     ]
    },
    {
     "data": {
      "text/plain": [
       "AIMessageChunk(content='Here are vegetarian alternatives for the Indian dishes you mentioned, along with their preparation:\\n\\n### 1. **Vegetarian Butter Chicken (Murgh Makhani)**\\nInstead of chicken, we can use **tofu** or **paneer** as the protein source.\\n\\n**Ingredients:**\\n- 500g tofu or paneer (cubed)\\n- 1 cup yogurt (use plant-based yogurt for vegan)\\n- 2 tablespoons butter (or vegan butter)\\n- 1 onion (finely chopped)\\n- 2 tomatoes (pureed)\\n- 1 tablespoon ginger-garlic paste\\n- 1 teaspoon garam masala\\n- 1 teaspoon chili powder\\n- 1 cup cream (use coconut cream for vegan)\\n- Salt to taste\\n- Fresh coriander for garnish\\n\\n**Instructions:**\\n1. Marinate the tofu or paneer in yogurt, ginger-garlic paste, chili powder, and salt for at least 1 hour.\\n2. In a pan, melt butter and sauté onions until golden brown.\\n3. Add the marinated tofu or paneer and cook until browned.\\n4. Stir in the tomato puree and cook for 10 minutes.\\n5. Add cream and garam masala, simmer for another 10 minutes.\\n6. Garnish with coriander and serve with naan or rice.\\n\\n### 2. **Chana Masala**\\nThis dish is already vegetarian! Just ensure you use canned chickpeas without any non-vegetarian additives.\\n\\n**Ingredients:**\\n- 2 cups chickpeas (cooked or canned)\\n- 1 onion (finely chopped)\\n- 2 tomatoes (chopped)\\n- 1 tablespoon ginger-garlic paste\\n- 1 teaspoon cumin seeds\\n- 1 teaspoon coriander powder\\n- 1 teaspoon cumin powder\\n- 1 teaspoon garam masala\\n- 1 teaspoon chili powder\\n- Salt to taste\\n- Fresh coriander for garnish\\n\\n**Instructions:**\\n1. Heat oil in a pan and add cumin seeds.\\n2. Once they splutter, add onions and sauté until golden.\\n3. Add ginger-garlic paste and cook for a minute.\\n4. Stir in tomatoes and cook until soft.\\n5. Add spices (coriander, cumin, garam masala, chili powder) and salt.\\n6. Add chickpeas and a little water, simmer for 10-15 minutes.\\n7. Garnish with coriander and serve with rice or bread.\\n\\n### 3. **Palak Paneer**\\nFor a vegetarian version, you can keep the paneer or replace it with **tofu** for a vegan option.\\n\\n**Ingredients:**\\n- 2 cups spinach (blanched)\\n- 200g paneer or tofu (cubed)\\n- 1 onion (finely chopped)\\n- 1 tomato (pureed)\\n- 1 tablespoon ginger-garlic paste\\n- 1 teaspoon cumin seeds\\n- 1 teaspoon garam masala\\n- 1/2 cup cream (use coconut cream for vegan)\\n- Salt to taste\\n\\n**Instructions:**\\n1. Blend the blanched spinach into a smooth paste.\\n2. Heat oil in a pan, add cumin seeds, and sauté onions until golden.\\n3. Add ginger-garlic paste and cook for a minute.\\n4. Stir in the tomato puree and cook until oil separates.\\n5. Add the spinach paste, garam masala, and salt. Cook for 5 minutes.\\n6. Add paneer or tofu cubes and cream (if using), simmer for another 5 minutes.\\n7. Serve with naan or rice.\\n\\n### 4. **Vegetable Biryani**\\nInstead of chicken, use a mix of your favorite vegetables like carrots, peas, and bell peppers.\\n\\n**Ingredients:**\\n- 2 cups basmati rice\\n- 500g mixed vegetables (carrots, peas, bell peppers, etc.)\\n- 1 onion (sliced)\\n- 2 tomatoes (chopped)\\n- 1 tablespoon ginger-garlic paste\\n- 1 teaspoon biryani masala\\n- 1/2 cup yogurt (use plant-based yogurt for vegan)\\n- Fresh mint and coriander leaves\\n- Whole spices (bay leaf, cloves, cardamom, cinnamon)\\n- Salt to taste\\n\\n**Instructions:**\\n1. Marinate the mixed vegetables with yogurt, ginger-garlic paste, biryani masala, and salt for at least 1 hour.\\n2. Cook rice until 70% done and set aside.\\n3. In a pot, heat oil and fry onions until golden. Add whole spices.\\n4. Add marinated vegetables and cook until done.\\n5. Layer the partially cooked rice over the vegetables, sprinkle mint and coriander.\\n6. Cover and cook on low heat for 20-25 minutes.\\n7. Serve with raita (yogurt sauce).\\n\\nEnjoy your vegetarian cooking! If you have any other specific dishes in mind or need more recipes, feel free to ask!')"
      ]
     },
     "execution_count": 6,
     "metadata": {},
     "output_type": "execute_result"
    }
   ],
   "source": [
    "from langchain.chat_models import ChatOpenAI\n",
    "from langchain.prompts import ChatPromptTemplate\n",
    "from langchain.callbacks import StreamingStdOutCallbackHandler\n",
    "\n",
    "chat = ChatOpenAI(model_name='gpt-4o-mini', temperature=0.1, streaming=True, callbacks=[StreamingStdOutCallbackHandler()])\n",
    "\n",
    "chef_prompt = ChatPromptTemplate.from_messages([\n",
    "    (\n",
    "        \"system\",\n",
    "        \"\",\n",
    "    ),\n",
    "    (\"human\", \"I want to cook {cuisine} food.\"),\n",
    "    \n",
    "])\n",
    "\n",
    "chef_chain = chef_prompt | chat \n",
    "\n",
    "veg_chef_prompt = ChatPromptTemplate.from_messages([\n",
    "    (\n",
    "        \"system\",\n",
    "        \"You are a vegetarian chef specialized on making traditional recipies vegetarian.\\\n",
    "        You find alternative ingredients and explain their preparation.\\\n",
    "        You don't radically modify the recipe.\\\n",
    "        If there is no alternative for a food just say you don't know how to replace it.\",\n",
    "    ),\n",
    "    (\"human\", \"{recipe}\"),    \n",
    "])\n",
    "\n",
    "veg_chain = veg_chef_prompt | chat \n",
    "\n",
    "final_chain = {\"recipe\": chef_chain} | veg_chain \n",
    "\n",
    "final_chain.invoke({\n",
    "    \"cuisine\":\"indian\"\n",
    "})\n"
   ]
  },
  {
   "cell_type": "markdown",
   "metadata": {},
   "source": [
    "## 3.5 Recap"
   ]
  },
  {
   "cell_type": "markdown",
   "metadata": {},
   "source": [
    "- 3장에서 배운 내용을 다시 정리 \n",
    "- streaming기능 : response를 실시간으로 결과를 줌\n",
    "- StreamingStdOutCallBackHandler() : 볼수 있는 문자(response)가 생길때마다 호출됨\n",
    "- callback은 LLM에서 발생되는 다양한 이벤트들을 감지할 수 있음 "
   ]
  }
 ],
 "metadata": {
  "kernelspec": {
   "display_name": "env",
   "language": "python",
   "name": "python3"
  },
  "language_info": {
   "codemirror_mode": {
    "name": "ipython",
    "version": 3
   },
   "file_extension": ".py",
   "mimetype": "text/x-python",
   "name": "python",
   "nbconvert_exporter": "python",
   "pygments_lexer": "ipython3",
   "version": "3.11.9"
  }
 },
 "nbformat": 4,
 "nbformat_minor": 2
}
